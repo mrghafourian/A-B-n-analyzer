{
 "cells": [
  {
   "cell_type": "code",
   "execution_count": null,
   "id": "581f8bc7-4e81-428c-a3d5-6b17ecb31587",
   "metadata": {},
   "outputs": [],
   "source": [
    "from abcalc_notebook import analyze_file\n",
    "\n",
    "# Run analysis on the sample dataset\n",
    "pretty, raw = analyze_file(\"sample_data/ab_test_with_revenue.csv\",\n",
    "                           control=\"A\", alpha=0.05, mcc=\"holm\")\n",
    "\n",
    "# Save results to Excel\n",
    "pretty, raw = analyze_file(\"sample_data/ab_test_with_revenue.csv\",\n",
    "                           out=\"results.xlsx\")\n"
   ]
  }
 ],
 "metadata": {
  "kernelspec": {
   "display_name": "Python 3 (ipykernel)",
   "language": "python",
   "name": "python3"
  },
  "language_info": {
   "codemirror_mode": {
    "name": "ipython",
    "version": 3
   },
   "file_extension": ".py",
   "mimetype": "text/x-python",
   "name": "python",
   "nbconvert_exporter": "python",
   "pygments_lexer": "ipython3",
   "version": "3.13.5"
  }
 },
 "nbformat": 4,
 "nbformat_minor": 5
}
